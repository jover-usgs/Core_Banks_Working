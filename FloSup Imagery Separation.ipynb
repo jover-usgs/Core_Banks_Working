{
 "cells": [
  {
   "cell_type": "markdown",
   "metadata": {},
   "source": [
    "# Separate FloSup data into smaller sections using Arcpy\n",
    "## Write to Csv, return number of photos per section\n",
    "### Jin-Si R. Over - jover@usgs.gov\n",
    "### Last updated 7/23/2020\n",
    "\n",
    "To Do: \n",
    "1. add code section that breaks up csvs with greater than 750 lines and renames as a, b, c...by splitting into equal sized chunks. \n",
    "2. Change code so that it will run different flights based off of date?\n",
    "3. Make the zipped file name reflect the naming convention settled on Year-month_NC_latcodeN-a"
   ]
  },
  {
   "cell_type": "code",
   "execution_count": 1,
   "metadata": {},
   "outputs": [],
   "source": [
    "#ArcDesktop - 10.7 running python 2.7\n",
    "#Note, should run in python 3...\n",
    "\n",
    "import os\n",
    "import sys\n",
    "try:\n",
    "    import archook #The module which locates arcgis\n",
    "    archook.get_arcpy()\n",
    "    import arcpy\n",
    "except ImportError:\n",
    "    print (\"can't find arcpy\")\n",
    "    \n",
    "import numpy as np\n",
    "import matplotlib.pyplot as plt\n",
    "import xarray as xr\n",
    "from scipy import interpolate, signal\n",
    "import glob\n",
    "import pandas as pd\n",
    "import csv\n",
    "import copy\n",
    "\n",
    "from arcpy import env\n",
    "from arcpy.sa import *\n",
    "import arcpy.cartography as CA\n",
    "\n",
    "arcpy.CheckOutExtension(\"Spatial\")\n",
    "arcpy.CheckOutExtension(\"3D\")\n",
    "env.overwriteOutput = True\n",
    "arcpy.overwriteOutput = True"
   ]
  },
  {
   "cell_type": "code",
   "execution_count": 2,
   "metadata": {},
   "outputs": [
    {
     "name": "stdout",
     "output_type": "stream",
     "text": [
      "Setting workspace to the following directory: C:/Users/jover/Working/02_USGS/01b_OBX_Florence/\n"
     ]
    }
   ],
   "source": [
    "path = r\"C:/Users/jover/Working/02_USGS/01b_OBX_Florence/\"\n",
    "export_path = r\"C:/Users/jover/Working/02_USGS/01b_OBX_Florence/001_FlightZips\"\n",
    "\n",
    "print(\"Setting workspace to the following directory: \" + path)\n",
    "\n",
    "wkspc\t\t\t\t= path \n",
    "\n",
    "# Set paths and names\n",
    "locgdb \t\t\t\t= wkspc + 'Florence_Photo_Locations.gdb/'\t\t# Geodatabase location\n",
    "locshp\t\t\t\t= wkspc + '02_Shapefiles/'\t\t\t# Shapefiles\n",
    "loccsv              = wkspc + '001_FlightZips/' #Place the names for each section\n",
    "env.workspace       = locgdb"
   ]
  },
  {
   "cell_type": "code",
   "execution_count": 3,
   "metadata": {},
   "outputs": [],
   "source": [
    "#Set up floating ranges to call in a loop\n",
    "step = 0.05                                        #Change to set the range of the latitude. 0.05 decimal degrees is 3 minutes\n",
    "first = np.arange(33.8, 36.2, step)                #Lower bounding range of latitude floats that I want to separate out\n",
    "second = np.arange(33.8 + step, 36.2 + step, step) #Upper bounding range based on step\n",
    "zips = range(0,len(first),1)                       #Just an index for naming the output csvs\n"
   ]
  },
  {
   "cell_type": "code",
   "execution_count": 5,
   "metadata": {},
   "outputs": [],
   "source": [
    "#Loop to select out file names from Florence by .05 (or whatever step specifed) decimal degrees\n",
    "\n",
    "for i in range(len(first)):\n",
    "    #Make a working layer to access from a point shapefile containing all the locations/data\n",
    "    #The shapefile is the 3 merged Flight Locations csv files from Wayne from 2018\n",
    "    arcpy.MakeFeatureLayer_management(locshp + \"Florence_PhotoLoc_v2.shp\",'Florence_PhotoLoc_lyr')\n",
    "    \n",
    "    #Select from the layer by the latitude attribute and the ranges specified in the cell above\n",
    "    sectionPhotos = arcpy.SelectLayerByAttribute_management('Florence_PhotoLoc_lyr',\"NEW_SELECTION\",\"Latitude > \" + str(first[i]) + \" AND Latitude < \" + str(second[i]))\n",
    "    \n",
    "    #Creates copy of the selected features and puts them into a gdb feature class that is overwritten each time\n",
    "    arcpy.CopyFeatures_management(sectionPhotos, locgdb + \"overwrite\")\n",
    "    \n",
    "    #Takes the file being overwritten and makes it into a csv with an incremental name\n",
    "    arcpy.TableToTable_conversion(locgdb + \"overwrite\",'C:/Users/jover/Working/02_USGS/01b_OBX_Florence/001_FlightZips/','Zip_' + str(zips[i]) + '.csv','','')\n"
   ]
  },
  {
   "cell_type": "code",
   "execution_count": 6,
   "metadata": {},
   "outputs": [],
   "source": [
    "#Get rid of extraneous columns in the csv created by Arc\n",
    "\n",
    "#Walk through the created csv, read them using pandas and then rewrite it only using the columns we want to keep\n",
    "for f in glob.glob(\"C:/Users/jover/Working/02_USGS/01b_OBX_Florence/001_FlightZips/*.csv\"):\n",
    "    fn = pd.read_csv(f)\n",
    "    keep_col = ['Station','UTC_Time', 'Latitude', 'Longitude', 'Easting','Northing']\n",
    "    new_f = fn[keep_col]\n",
    "    new_f.to_csv(f)"
   ]
  },
  {
   "cell_type": "code",
   "execution_count": 9,
   "metadata": {
    "scrolled": true
   },
   "outputs": [],
   "source": [
    "#See how many photos are in each file and write out as a csv - https://stackoverflow.com/questions/31616217/python-script-to-count-num-lines-in-all-files-in-directory\n",
    "\n",
    "os.chdir('C:/Users/jover/Working/02_USGS/01b_OBX_Florence/01_Flight_Zip_Sections/')\n",
    "#os.chdir('C:/Users/jover/Working/02_USGS/01b_OBX_Florence/001_FlightZips/')\n",
    "names={}\n",
    "for fn in glob.glob('*ZipNames'):                          #Walk through every csv with the ZipNames (fixed so it won't count the Photo_count if its in the same folder) in the zipped sections\n",
    "    with open(fn) as f:\n",
    "        names[fn]=sum(1 for line in f if line.strip()) #counts the lines and sums them for each csv\n",
    "    \n",
    "with open('Photo_count.csv','wb') as f:                #Save as a csv\n",
    "    w = csv.DictWriter(f,names.keys());\n",
    "    w.writeheader();\n",
    "    w.writerow(names)                                  #First row is the names of the csvs, second is the count\n",
    "    \n"
   ]
  },
  {
   "cell_type": "code",
   "execution_count": null,
   "metadata": {},
   "outputs": [],
   "source": []
  }
 ],
 "metadata": {
  "kernelspec": {
   "display_name": "Python 2",
   "language": "python",
   "name": "python2"
  },
  "language_info": {
   "codemirror_mode": {
    "name": "ipython",
    "version": 2
   },
   "file_extension": ".py",
   "mimetype": "text/x-python",
   "name": "python",
   "nbconvert_exporter": "python",
   "pygments_lexer": "ipython2",
   "version": "2.7.15"
  }
 },
 "nbformat": 4,
 "nbformat_minor": 2
}
